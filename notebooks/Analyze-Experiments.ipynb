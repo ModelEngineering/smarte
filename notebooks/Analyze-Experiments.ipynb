{
 "cells": [
  {
   "cell_type": "markdown",
   "id": "7e5d1edb-0cd9-4d86-b9d2-6ad69e57a0e6",
   "metadata": {},
   "source": [
    "# ANALYZE EXPERIMENTS"
   ]
  },
  {
   "cell_type": "code",
   "execution_count": 1,
   "id": "a2bd0edd-34c8-4e13-a81d-0a6f8c5f8652",
   "metadata": {},
   "outputs": [],
   "source": [
    "import smarte.constants as cn\n",
    "import smarte as smt\n",
    "\n",
    "from dask.distributed import Client\n",
    "import dask.dataframe as dd\n",
    "import dask\n",
    "import os"
   ]
  },
  {
   "cell_type": "code",
   "execution_count": 2,
   "id": "801d3681-2398-46c4-9280-8436d77e8711",
   "metadata": {},
   "outputs": [
    {
     "data": {
      "text/html": [
       "<table style=\"border: 2px solid white;\">\n",
       "<tr>\n",
       "<td style=\"vertical-align: top; border: 0px solid white\">\n",
       "<h3 style=\"text-align: left;\">Client</h3>\n",
       "<ul style=\"text-align: left; list-style: none; margin: 0; padding: 0;\">\n",
       "  <li><b>Scheduler: </b>tcp://127.0.0.1:44873</li>\n",
       "  <li><b>Dashboard: </b><a href='http://127.0.0.1:8787/status' target='_blank'>http://127.0.0.1:8787/status</a></li>\n",
       "</ul>\n",
       "</td>\n",
       "<td style=\"vertical-align: top; border: 0px solid white\">\n",
       "<h3 style=\"text-align: left;\">Cluster</h3>\n",
       "<ul style=\"text-align: left; list-style:none; margin: 0; padding: 0;\">\n",
       "  <li><b>Workers: </b>4</li>\n",
       "  <li><b>Cores: </b>4</li>\n",
       "  <li><b>Memory: </b>8.21 GB</li>\n",
       "</ul>\n",
       "</td>\n",
       "</tr>\n",
       "</table>"
      ],
      "text/plain": [
       "<Client: 'tcp://127.0.0.1:44873' processes=4 threads=4, memory=8.21 GB>"
      ]
     },
     "execution_count": 2,
     "metadata": {},
     "output_type": "execute_result"
    }
   ],
   "source": [
    "client = Client(n_workers=4)\n",
    "client"
   ]
  },
  {
   "cell_type": "markdown",
   "id": "4fd0edd1-3b3e-442e-a144-d73cb00f7468",
   "metadata": {},
   "source": [
    "# Create the dataframe of experiments"
   ]
  },
  {
   "cell_type": "code",
   "execution_count": 3,
   "id": "e6571ce7-d8ad-4423-81e1-6520dd849269",
   "metadata": {},
   "outputs": [
    {
     "data": {
      "text/html": [
       "<div><strong>Dask DataFrame Structure:</strong></div>\n",
       "<div>\n",
       "<style scoped>\n",
       "    .dataframe tbody tr th:only-of-type {\n",
       "        vertical-align: middle;\n",
       "    }\n",
       "\n",
       "    .dataframe tbody tr th {\n",
       "        vertical-align: top;\n",
       "    }\n",
       "\n",
       "    .dataframe thead th {\n",
       "        text-align: right;\n",
       "    }\n",
       "</style>\n",
       "<table border=\"1\" class=\"dataframe\">\n",
       "  <thead>\n",
       "    <tr style=\"text-align: right;\">\n",
       "      <th></th>\n",
       "      <th>biomodel_num</th>\n",
       "      <th>num_species</th>\n",
       "      <th>num_reaction</th>\n",
       "      <th>num_parameter</th>\n",
       "      <th>method</th>\n",
       "      <th>noise_mag</th>\n",
       "      <th>range_min_frac</th>\n",
       "      <th>range_max_frac</th>\n",
       "      <th>range_initial_frac</th>\n",
       "      <th>columns_deleted</th>\n",
       "      <th>max_fev</th>\n",
       "      <th>ts_instance</th>\n",
       "      <th>median_err</th>\n",
       "      <th>max_err</th>\n",
       "      <th>min_err</th>\n",
       "      <th>avg_time</th>\n",
       "      <th>cnt</th>\n",
       "      <th>tot_time</th>\n",
       "      <th>status</th>\n",
       "    </tr>\n",
       "    <tr>\n",
       "      <th>npartitions=7</th>\n",
       "      <th></th>\n",
       "      <th></th>\n",
       "      <th></th>\n",
       "      <th></th>\n",
       "      <th></th>\n",
       "      <th></th>\n",
       "      <th></th>\n",
       "      <th></th>\n",
       "      <th></th>\n",
       "      <th></th>\n",
       "      <th></th>\n",
       "      <th></th>\n",
       "      <th></th>\n",
       "      <th></th>\n",
       "      <th></th>\n",
       "      <th></th>\n",
       "      <th></th>\n",
       "      <th></th>\n",
       "      <th></th>\n",
       "    </tr>\n",
       "  </thead>\n",
       "  <tbody>\n",
       "    <tr>\n",
       "      <th></th>\n",
       "      <td>int64</td>\n",
       "      <td>float64</td>\n",
       "      <td>float64</td>\n",
       "      <td>float64</td>\n",
       "      <td>object</td>\n",
       "      <td>float64</td>\n",
       "      <td>float64</td>\n",
       "      <td>int64</td>\n",
       "      <td>float64</td>\n",
       "      <td>int64</td>\n",
       "      <td>int64</td>\n",
       "      <td>int64</td>\n",
       "      <td>float64</td>\n",
       "      <td>float64</td>\n",
       "      <td>float64</td>\n",
       "      <td>float64</td>\n",
       "      <td>float64</td>\n",
       "      <td>float64</td>\n",
       "      <td>object</td>\n",
       "    </tr>\n",
       "    <tr>\n",
       "      <th></th>\n",
       "      <td>...</td>\n",
       "      <td>...</td>\n",
       "      <td>...</td>\n",
       "      <td>...</td>\n",
       "      <td>...</td>\n",
       "      <td>...</td>\n",
       "      <td>...</td>\n",
       "      <td>...</td>\n",
       "      <td>...</td>\n",
       "      <td>...</td>\n",
       "      <td>...</td>\n",
       "      <td>...</td>\n",
       "      <td>...</td>\n",
       "      <td>...</td>\n",
       "      <td>...</td>\n",
       "      <td>...</td>\n",
       "      <td>...</td>\n",
       "      <td>...</td>\n",
       "      <td>...</td>\n",
       "    </tr>\n",
       "    <tr>\n",
       "      <th>...</th>\n",
       "      <td>...</td>\n",
       "      <td>...</td>\n",
       "      <td>...</td>\n",
       "      <td>...</td>\n",
       "      <td>...</td>\n",
       "      <td>...</td>\n",
       "      <td>...</td>\n",
       "      <td>...</td>\n",
       "      <td>...</td>\n",
       "      <td>...</td>\n",
       "      <td>...</td>\n",
       "      <td>...</td>\n",
       "      <td>...</td>\n",
       "      <td>...</td>\n",
       "      <td>...</td>\n",
       "      <td>...</td>\n",
       "      <td>...</td>\n",
       "      <td>...</td>\n",
       "      <td>...</td>\n",
       "    </tr>\n",
       "    <tr>\n",
       "      <th></th>\n",
       "      <td>...</td>\n",
       "      <td>...</td>\n",
       "      <td>...</td>\n",
       "      <td>...</td>\n",
       "      <td>...</td>\n",
       "      <td>...</td>\n",
       "      <td>...</td>\n",
       "      <td>...</td>\n",
       "      <td>...</td>\n",
       "      <td>...</td>\n",
       "      <td>...</td>\n",
       "      <td>...</td>\n",
       "      <td>...</td>\n",
       "      <td>...</td>\n",
       "      <td>...</td>\n",
       "      <td>...</td>\n",
       "      <td>...</td>\n",
       "      <td>...</td>\n",
       "      <td>...</td>\n",
       "    </tr>\n",
       "    <tr>\n",
       "      <th></th>\n",
       "      <td>...</td>\n",
       "      <td>...</td>\n",
       "      <td>...</td>\n",
       "      <td>...</td>\n",
       "      <td>...</td>\n",
       "      <td>...</td>\n",
       "      <td>...</td>\n",
       "      <td>...</td>\n",
       "      <td>...</td>\n",
       "      <td>...</td>\n",
       "      <td>...</td>\n",
       "      <td>...</td>\n",
       "      <td>...</td>\n",
       "      <td>...</td>\n",
       "      <td>...</td>\n",
       "      <td>...</td>\n",
       "      <td>...</td>\n",
       "      <td>...</td>\n",
       "      <td>...</td>\n",
       "    </tr>\n",
       "  </tbody>\n",
       "</table>\n",
       "</div>\n",
       "<div>Dask Name: read-csv, 7 tasks</div>"
      ],
      "text/plain": [
       "Dask DataFrame Structure:\n",
       "              biomodel_num num_species num_reaction num_parameter  method noise_mag range_min_frac range_max_frac range_initial_frac columns_deleted max_fev ts_instance median_err  max_err  min_err avg_time      cnt tot_time  status\n",
       "npartitions=7                                                                                                                                                                                                                           \n",
       "                     int64     float64      float64       float64  object   float64        float64          int64            float64           int64   int64       int64    float64  float64  float64  float64  float64  float64  object\n",
       "                       ...         ...          ...           ...     ...       ...            ...            ...                ...             ...     ...         ...        ...      ...      ...      ...      ...      ...     ...\n",
       "...                    ...         ...          ...           ...     ...       ...            ...            ...                ...             ...     ...         ...        ...      ...      ...      ...      ...      ...     ...\n",
       "                       ...         ...          ...           ...     ...       ...            ...            ...                ...             ...     ...         ...        ...      ...      ...      ...      ...      ...     ...\n",
       "                       ...         ...          ...           ...     ...       ...            ...            ...                ...             ...     ...         ...        ...      ...      ...      ...      ...      ...     ...\n",
       "Dask Name: read-csv, 7 tasks"
      ]
     },
     "execution_count": 3,
     "metadata": {},
     "output_type": "execute_result"
    }
   ],
   "source": [
    "DF = dd.read_csv(os.path.join(cn.EXPERIMENT_DIR, \"*.csv\"))\n",
    "DF"
   ]
  },
  {
   "cell_type": "code",
   "execution_count": 4,
   "id": "0735d9b1-5464-42de-9160-6e175ed7faa6",
   "metadata": {},
   "outputs": [],
   "source": [
    "path = os.path.join(cn.EXPERIMENT_DIR, \"workunits.txt\")\n",
    "with open(path, \"r\") as fd:\n",
    "    workunit_strs = fd.readlines()\n",
    "workunit_strs = [w if w[-1] == \"l\" else w[:-1] for w in workunit_strs]\n",
    "workunits = [smt.Workunit.getFromStr(w) for w in workunit_strs]"
   ]
  },
  {
   "cell_type": "code",
   "execution_count": 5,
   "id": "3b71f1b0-1526-4aec-bfaf-2381e83e0c57",
   "metadata": {},
   "outputs": [
    {
     "data": {
      "text/plain": [
       "16019"
      ]
     },
     "execution_count": 5,
     "metadata": {},
     "output_type": "execute_result"
    }
   ],
   "source": [
    "# How many experiments were completed\n",
    "len(DF)"
   ]
  },
  {
   "cell_type": "markdown",
   "id": "64b09d9e-a0a0-47cd-8f5f-3c09feaa157a",
   "metadata": {},
   "source": [
    "# Missing Experiments"
   ]
  },
  {
   "cell_type": "code",
   "execution_count": 6,
   "id": "4ddb35d2-50e0-450c-b7f5-87f0f633a871",
   "metadata": {},
   "outputs": [
    {
     "data": {
      "text/plain": [
       "{'biomodel_num--ts_instance'}"
      ]
     },
     "execution_count": 6,
     "metadata": {},
     "output_type": "execute_result"
    }
   ],
   "source": [
    "set([\"--\".join(w.calcMultivaluedFactors()) for w in workunits])"
   ]
  },
  {
   "cell_type": "code",
   "execution_count": 7,
   "id": "94f796fb-4bbd-4000-8c72-c3589928eecb",
   "metadata": {},
   "outputs": [],
   "source": [
    "# Find what varies across workunits"
   ]
  },
  {
   "cell_type": "code",
   "execution_count": 8,
   "id": "b9cedf7f-c6d4-4b7f-8375-f6d56ac4d1e7",
   "metadata": {},
   "outputs": [
    {
     "name": "stdout",
     "output_type": "stream",
     "text": [
      "biomodel_num--l--a__method--differential_evolution__noise_mag--0.2__range_min_frac--0.5__range_max_frac--2__range_initial_frac--0.5__columns_deleted--0__max_fev--10000__ts_instance--l--a\n",
      "biomodel_num--l--a__method--differential_evolution__noise_mag--0.2--0.1__range_min_frac--0.5__range_max_frac--2__range_initial_frac--0.5--0.8__columns_deleted--0__max_fev--10000__ts_instance--l--a\n",
      "biomodel_num--l--a__method--differential_evolution__noise_mag--0.2--0.1__range_min_frac--0.5__range_max_frac--2__range_initial_frac--0.5--0.8__columns_deleted--0__max_fev--10000__ts_instance--l--a\n",
      "biomodel_num--l--a__method--differential_evolution__noise_mag--0.2--0.1__range_min_frac--0.5__range_max_frac--2__range_initial_frac--0.5--0.8--1.2__columns_deleted--0__max_fev--10000__ts_instance--l--a\n",
      "biomodel_num--l--a__method--differential_evolution__noise_mag--0.2--0.1__range_min_frac--0.5__range_max_frac--2__range_initial_frac--0.5--0.8--1.2__columns_deleted--0__max_fev--10000__ts_instance--l--a\n",
      "biomodel_num--l--a__method--differential_evolution__noise_mag--0.2--0.1__range_min_frac--0.5__range_max_frac--2__range_initial_frac--0.5--0.8--1.2--1.5__columns_deleted--0__max_fev--10000__ts_instance--l--a\n",
      "biomodel_num--l--a__method--differential_evolution__noise_mag--0.2--0.1__range_min_frac--0.5__range_max_frac--2__range_initial_frac--0.5--0.8--1.2--1.5__columns_deleted--0__max_fev--10000__ts_instance--l--a\n",
      "biomodel_num--l--a__method--differential_evolution__noise_mag--0.2--0.1__range_min_frac--0.5__range_max_frac--2__range_initial_frac--0.5--0.8--2.0--1.2--1.5__columns_deleted--0__max_fev--10000__ts_instance--l--a\n",
      "biomodel_num--l--a__method--differential_evolution__noise_mag--0.2--0.1__range_min_frac--0.5__range_max_frac--2__range_initial_frac--0.5--0.8--2.0--1.2--1.5__columns_deleted--0__max_fev--10000__ts_instance--l--a\n",
      "biomodel_num--l--a__method--leastsq--differential_evolution__noise_mag--0.2--0.1__range_min_frac--0.5__range_max_frac--2__range_initial_frac--0.5--0.8--2.0--1.2--1.5__columns_deleted--0__max_fev--10000__ts_instance--l--a\n",
      "biomodel_num--l--a__method--leastsq--differential_evolution__noise_mag--0.2--0.1__range_min_frac--0.5__range_max_frac--2__range_initial_frac--0.5--0.8--2.0--1.2--1.5__columns_deleted--0__max_fev--10000__ts_instance--l--a\n",
      "biomodel_num--l--a__method--leastsq--differential_evolution__noise_mag--0.2--0.1__range_min_frac--0.5__range_max_frac--2__range_initial_frac--0.5--0.8--2.0--1.2--1.5__columns_deleted--0__max_fev--10000__ts_instance--l--a\n",
      "biomodel_num--l--a__method--leastsq--differential_evolution__noise_mag--0.2--0.1__range_min_frac--0.5__range_max_frac--2__range_initial_frac--0.5--0.8--2.0--1.2--1.5__columns_deleted--0__max_fev--10000__ts_instance--l--a\n",
      "biomodel_num--l--a__method--leastsq--differential_evolution__noise_mag--0.2--0.1__range_min_frac--0.5__range_max_frac--2__range_initial_frac--0.5--0.8--2.0--1.2--1.5__columns_deleted--0__max_fev--10000__ts_instance--l--a\n",
      "biomodel_num--l--a__method--leastsq--differential_evolution__noise_mag--0.2--0.1__range_min_frac--0.5__range_max_frac--2__range_initial_frac--0.5--0.8--2.0--1.2--1.5__columns_deleted--0__max_fev--10000__ts_instance--l--a\n",
      "biomodel_num--l--a__method--leastsq--differential_evolution__noise_mag--0.2--0.1__range_min_frac--0.5__range_max_frac--2__range_initial_frac--0.5--0.8--2.0--1.2--1.5__columns_deleted--0__max_fev--10000__ts_instance--l--a\n",
      "biomodel_num--l--a__method--leastsq--differential_evolution__noise_mag--0.2--0.1__range_min_frac--0.5__range_max_frac--2__range_initial_frac--0.5--0.8--2.0--1.2--1.5__columns_deleted--0__max_fev--10000__ts_instance--l--a\n",
      "biomodel_num--l--a__method--leastsq--differential_evolution__noise_mag--0.2--0.1__range_min_frac--0.5__range_max_frac--2__range_initial_frac--0.5--0.8--2.0--1.2--1.5__columns_deleted--0__max_fev--10000__ts_instance--l--a\n",
      "biomodel_num--l--a__method--leastsq--differential_evolution__noise_mag--0.2--0.1__range_min_frac--0.5__range_max_frac--2__range_initial_frac--0.5--0.8--2.0--1.2--1.5__columns_deleted--0__max_fev--10000__ts_instance--l--a\n"
     ]
    }
   ],
   "source": [
    "# Combine workunits\n",
    "agg_workunits = smt.ExtendedDict({k: [] for k in cn.SD_CONDITIONS})\n",
    "for workunit in workunits[1:]:\n",
    "    dct = workunit.removeExpansions()\n",
    "    for key in dct.keys():\n",
    "        # Handle bug where get [[\"differential_evolution\"]]\n",
    "        if isinstance(dct[key], str):\n",
    "            values = set(agg_workunits[key]).union(dct[key])\n",
    "        elif isinstance(dct[key], list):\n",
    "            values = set(agg_workunits[key]).union(dct[key][0])\n",
    "        agg_workunits[key] = list(values)\n",
    "    print(agg_workunits)\n",
    "if False:\n",
    "    # Remove those known to vary\n",
    "    for factor in [cn.SD_BIOMODEL_NUM, cn.SD_TS_INSTANCE]:\n",
    "        del agg_workunits[factor]\n",
    "    str(agg_workunits)"
   ]
  },
  {
   "cell_type": "code",
   "execution_count": 9,
   "id": "5f22e60c-6525-4623-b69d-37e5a36f1cc3",
   "metadata": {},
   "outputs": [
    {
     "data": {
      "text/plain": [
       "noise_mag  range_initial_frac  method                  max_fev\n",
       "0.1        0.8                 differential_evolution  10000      3435\n",
       "           1.2                 differential_evolution  10000      3435\n",
       "           2.0                 differential_evolution  10000      3435\n",
       "0.2        0.5                 differential_evolution  10000       725\n",
       "           1.2                 differential_evolution  10000      2017\n",
       "0.1        1.5                 leastsq                 10000      1485\n",
       "           2.0                 leastsq                 10000      1487\n",
       "Name: biomodel_num, dtype: int64"
      ]
     },
     "execution_count": 9,
     "metadata": {},
     "output_type": "execute_result"
    }
   ],
   "source": [
    "count_df = DF.groupby([cn.SD_NOISE_MAG, cn.SD_RANGE_INITIAL_FRAC, cn.SD_METHOD, cn.SD_MAX_FEV]).count()\n",
    "df = count_df.compute()\n",
    "ser = df[cn.SD_BIOMODEL_NUM]\n",
    "ser"
   ]
  },
  {
   "cell_type": "code",
   "execution_count": 10,
   "id": "af97ac58-2bfc-42ca-94e0-b3d5bcd24d35",
   "metadata": {},
   "outputs": [
    {
     "data": {
      "text/plain": [
       "16019"
      ]
     },
     "execution_count": 10,
     "metadata": {},
     "output_type": "execute_result"
    }
   ],
   "source": [
    "dff = DF[[cn.SD_NOISE_MAG, cn.SD_RANGE_INITIAL_FRAC, cn.SD_METHOD]]\n",
    "len(dff)"
   ]
  },
  {
   "cell_type": "code",
   "execution_count": 11,
   "id": "51fcb4f8-49a4-474c-8c92-178380246140",
   "metadata": {},
   "outputs": [
    {
     "data": {
      "text/plain": [
       "7"
      ]
     },
     "execution_count": 11,
     "metadata": {},
     "output_type": "execute_result"
    }
   ],
   "source": [
    "len(dff.drop_duplicates())"
   ]
  }
 ],
 "metadata": {
  "kernelspec": {
   "display_name": "Python 3",
   "language": "python",
   "name": "python3"
  },
  "language_info": {
   "codemirror_mode": {
    "name": "ipython",
    "version": 3
   },
   "file_extension": ".py",
   "mimetype": "text/x-python",
   "name": "python",
   "nbconvert_exporter": "python",
   "pygments_lexer": "ipython3",
   "version": "3.6.9"
  }
 },
 "nbformat": 4,
 "nbformat_minor": 5
}
