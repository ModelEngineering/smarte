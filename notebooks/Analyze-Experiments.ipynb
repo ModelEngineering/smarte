{
 "cells": [
  {
   "cell_type": "markdown",
   "id": "7e5d1edb-0cd9-4d86-b9d2-6ad69e57a0e6",
   "metadata": {},
   "source": [
    "# ANALYZE EXPERIMENTS"
   ]
  },
  {
   "cell_type": "code",
   "execution_count": 12,
   "id": "a2bd0edd-34c8-4e13-a81d-0a6f8c5f8652",
   "metadata": {},
   "outputs": [],
   "source": [
    "import smarte.constants as cn\n",
    "import smarte as smt\n",
    "\n",
    "from dask.distributed import Client\n",
    "import dask.dataframe as dd\n",
    "import dask\n",
    "import numpy as np\n",
    "import matplotlib.pyplot as plt\n",
    "import os\n",
    "import pandas as pd\n",
    "from io import StringIO\n",
    "import zipfile"
   ]
  },
  {
   "cell_type": "code",
   "execution_count": 2,
   "id": "801d3681-2398-46c4-9280-8436d77e8711",
   "metadata": {},
   "outputs": [
    {
     "name": "stderr",
     "output_type": "stream",
     "text": [
      "/home/ubuntu/smarte/smt/lib/python3.6/site-packages/distributed/node.py:155: UserWarning: Port 8787 is already in use.\n",
      "Perhaps you already have a cluster running?\n",
      "Hosting the HTTP server on port 34411 instead\n",
      "  http_address[\"port\"], self.http_server.port\n"
     ]
    },
    {
     "data": {
      "text/html": [
       "<table style=\"border: 2px solid white;\">\n",
       "<tr>\n",
       "<td style=\"vertical-align: top; border: 0px solid white\">\n",
       "<h3 style=\"text-align: left;\">Client</h3>\n",
       "<ul style=\"text-align: left; list-style: none; margin: 0; padding: 0;\">\n",
       "  <li><b>Scheduler: </b>tcp://127.0.0.1:44197</li>\n",
       "  <li><b>Dashboard: </b><a href='http://127.0.0.1:34411/status' target='_blank'>http://127.0.0.1:34411/status</a></li>\n",
       "</ul>\n",
       "</td>\n",
       "<td style=\"vertical-align: top; border: 0px solid white\">\n",
       "<h3 style=\"text-align: left;\">Cluster</h3>\n",
       "<ul style=\"text-align: left; list-style:none; margin: 0; padding: 0;\">\n",
       "  <li><b>Workers: </b>4</li>\n",
       "  <li><b>Cores: </b>4</li>\n",
       "  <li><b>Memory: </b>8.21 GB</li>\n",
       "</ul>\n",
       "</td>\n",
       "</tr>\n",
       "</table>"
      ],
      "text/plain": [
       "<Client: 'tcp://127.0.0.1:44197' processes=4 threads=4, memory=8.21 GB>"
      ]
     },
     "execution_count": 2,
     "metadata": {},
     "output_type": "execute_result"
    }
   ],
   "source": [
    "client = Client(n_workers=4)\n",
    "client"
   ]
  },
  {
   "cell_type": "markdown",
   "id": "4749ff07-d05f-4b43-a9df-21aba67bb99e",
   "metadata": {},
   "source": [
    "# Helpers"
   ]
  },
  {
   "cell_type": "code",
   "execution_count": 3,
   "id": "bd200af4-3e23-41df-ab47-a04540c5b8fa",
   "metadata": {},
   "outputs": [],
   "source": [
    "def extractZipped(file_name=\"experiments.zip\"):\n",
    "    # Extract the compressed data\n",
    "    archive_path = os.path.join(cn.EXPERIMENT_DIR, \"experiments.zip\")\n",
    "    dfs = []\n",
    "    with zipfile.ZipFile(archive_path) as myzip:\n",
    "        for ffile in myzip.namelist():\n",
    "            with myzip.open(ffile) as myfile:\n",
    "                byte_lines = (myfile.readlines())\n",
    "                lines = [l.decode() for l in byte_lines]\n",
    "                lines = \"\\n\".join(lines)\n",
    "                df = pd.read_csv(StringIO(lines))\n",
    "                dfs.append(df)\n",
    "    return pd.concat(dfs)"
   ]
  },
  {
   "cell_type": "markdown",
   "id": "e9492df9-03b1-4170-a3ea-9e760afb3348",
   "metadata": {},
   "source": [
    "# Data Overview"
   ]
  },
  {
   "cell_type": "code",
   "execution_count": 4,
   "id": "ba685c52-5330-47d5-b3c5-96627c081a60",
   "metadata": {},
   "outputs": [
    {
     "data": {
      "text/html": [
       "<div>\n",
       "<style scoped>\n",
       "    .dataframe tbody tr th:only-of-type {\n",
       "        vertical-align: middle;\n",
       "    }\n",
       "\n",
       "    .dataframe tbody tr th {\n",
       "        vertical-align: top;\n",
       "    }\n",
       "\n",
       "    .dataframe thead th {\n",
       "        text-align: right;\n",
       "    }\n",
       "</style>\n",
       "<table border=\"1\" class=\"dataframe\">\n",
       "  <thead>\n",
       "    <tr style=\"text-align: right;\">\n",
       "      <th></th>\n",
       "      <th>biomodel_num</th>\n",
       "      <th>num_species</th>\n",
       "      <th>num_reaction</th>\n",
       "      <th>num_parameter</th>\n",
       "      <th>columns_deleted</th>\n",
       "      <th>max_fev</th>\n",
       "      <th>method</th>\n",
       "      <th>noise_mag</th>\n",
       "      <th>num_latincube</th>\n",
       "      <th>range_min_frac</th>\n",
       "      <th>range_max_frac</th>\n",
       "      <th>ts_instance</th>\n",
       "      <th>median_err</th>\n",
       "      <th>max_err</th>\n",
       "      <th>min_err</th>\n",
       "      <th>avg_time</th>\n",
       "      <th>cnt</th>\n",
       "      <th>tot_time</th>\n",
       "      <th>status</th>\n",
       "    </tr>\n",
       "  </thead>\n",
       "  <tbody>\n",
       "    <tr>\n",
       "      <th>0</th>\n",
       "      <td>1</td>\n",
       "      <td>12.0</td>\n",
       "      <td>17.0</td>\n",
       "      <td>35.0</td>\n",
       "      <td>0</td>\n",
       "      <td>10000</td>\n",
       "      <td>differential_evolution</td>\n",
       "      <td>0.1</td>\n",
       "      <td>1</td>\n",
       "      <td>0.5</td>\n",
       "      <td>2.0</td>\n",
       "      <td>1</td>\n",
       "      <td>-0.006678</td>\n",
       "      <td>0.998357</td>\n",
       "      <td>-0.006678</td>\n",
       "      <td>0.000226</td>\n",
       "      <td>1087.0</td>\n",
       "      <td>0.245964</td>\n",
       "      <td>Success!</td>\n",
       "    </tr>\n",
       "    <tr>\n",
       "      <th>1</th>\n",
       "      <td>1</td>\n",
       "      <td>12.0</td>\n",
       "      <td>17.0</td>\n",
       "      <td>35.0</td>\n",
       "      <td>0</td>\n",
       "      <td>10000</td>\n",
       "      <td>differential_evolution</td>\n",
       "      <td>0.1</td>\n",
       "      <td>1</td>\n",
       "      <td>0.5</td>\n",
       "      <td>2.0</td>\n",
       "      <td>2</td>\n",
       "      <td>0.268319</td>\n",
       "      <td>0.999995</td>\n",
       "      <td>0.056120</td>\n",
       "      <td>0.000233</td>\n",
       "      <td>1087.0</td>\n",
       "      <td>0.253108</td>\n",
       "      <td>Success!</td>\n",
       "    </tr>\n",
       "    <tr>\n",
       "      <th>2</th>\n",
       "      <td>1</td>\n",
       "      <td>12.0</td>\n",
       "      <td>17.0</td>\n",
       "      <td>35.0</td>\n",
       "      <td>0</td>\n",
       "      <td>10000</td>\n",
       "      <td>differential_evolution</td>\n",
       "      <td>0.1</td>\n",
       "      <td>1</td>\n",
       "      <td>0.5</td>\n",
       "      <td>2.0</td>\n",
       "      <td>3</td>\n",
       "      <td>0.176863</td>\n",
       "      <td>0.999158</td>\n",
       "      <td>0.032290</td>\n",
       "      <td>0.000260</td>\n",
       "      <td>1087.0</td>\n",
       "      <td>0.282281</td>\n",
       "      <td>Success!</td>\n",
       "    </tr>\n",
       "    <tr>\n",
       "      <th>3</th>\n",
       "      <td>1</td>\n",
       "      <td>12.0</td>\n",
       "      <td>17.0</td>\n",
       "      <td>35.0</td>\n",
       "      <td>0</td>\n",
       "      <td>10000</td>\n",
       "      <td>differential_evolution</td>\n",
       "      <td>0.1</td>\n",
       "      <td>1</td>\n",
       "      <td>0.5</td>\n",
       "      <td>2.0</td>\n",
       "      <td>4</td>\n",
       "      <td>-0.101451</td>\n",
       "      <td>-0.999998</td>\n",
       "      <td>0.041311</td>\n",
       "      <td>0.000267</td>\n",
       "      <td>1087.0</td>\n",
       "      <td>0.290280</td>\n",
       "      <td>Success!</td>\n",
       "    </tr>\n",
       "    <tr>\n",
       "      <th>4</th>\n",
       "      <td>1</td>\n",
       "      <td>12.0</td>\n",
       "      <td>17.0</td>\n",
       "      <td>35.0</td>\n",
       "      <td>0</td>\n",
       "      <td>10000</td>\n",
       "      <td>differential_evolution</td>\n",
       "      <td>0.1</td>\n",
       "      <td>1</td>\n",
       "      <td>0.5</td>\n",
       "      <td>2.0</td>\n",
       "      <td>5</td>\n",
       "      <td>0.345762</td>\n",
       "      <td>-0.999840</td>\n",
       "      <td>-0.067118</td>\n",
       "      <td>0.000264</td>\n",
       "      <td>1087.0</td>\n",
       "      <td>0.286798</td>\n",
       "      <td>Success!</td>\n",
       "    </tr>\n",
       "  </tbody>\n",
       "</table>\n",
       "</div>"
      ],
      "text/plain": [
       "   biomodel_num  num_species  num_reaction  num_parameter  columns_deleted  \\\n",
       "0             1         12.0          17.0           35.0                0   \n",
       "1             1         12.0          17.0           35.0                0   \n",
       "2             1         12.0          17.0           35.0                0   \n",
       "3             1         12.0          17.0           35.0                0   \n",
       "4             1         12.0          17.0           35.0                0   \n",
       "\n",
       "   max_fev                  method  noise_mag  num_latincube  range_min_frac  \\\n",
       "0    10000  differential_evolution        0.1              1             0.5   \n",
       "1    10000  differential_evolution        0.1              1             0.5   \n",
       "2    10000  differential_evolution        0.1              1             0.5   \n",
       "3    10000  differential_evolution        0.1              1             0.5   \n",
       "4    10000  differential_evolution        0.1              1             0.5   \n",
       "\n",
       "   range_max_frac  ts_instance  median_err   max_err   min_err  avg_time  \\\n",
       "0             2.0            1   -0.006678  0.998357 -0.006678  0.000226   \n",
       "1             2.0            2    0.268319  0.999995  0.056120  0.000233   \n",
       "2             2.0            3    0.176863  0.999158  0.032290  0.000260   \n",
       "3             2.0            4   -0.101451 -0.999998  0.041311  0.000267   \n",
       "4             2.0            5    0.345762 -0.999840 -0.067118  0.000264   \n",
       "\n",
       "      cnt  tot_time    status  \n",
       "0  1087.0  0.245964  Success!  \n",
       "1  1087.0  0.253108  Success!  \n",
       "2  1087.0  0.282281  Success!  \n",
       "3  1087.0  0.290280  Success!  \n",
       "4  1087.0  0.286798  Success!  "
      ]
     },
     "execution_count": 4,
     "metadata": {},
     "output_type": "execute_result"
    }
   ],
   "source": [
    "DF = extractZipped()\n",
    "DF.head()"
   ]
  },
  {
   "cell_type": "markdown",
   "id": "4fd0edd1-3b3e-442e-a144-d73cb00f7468",
   "metadata": {},
   "source": [
    "# Create the dataframe of experiments"
   ]
  },
  {
   "cell_type": "code",
   "execution_count": 30,
   "id": "e6571ce7-d8ad-4423-81e1-6520dd849269",
   "metadata": {},
   "outputs": [],
   "source": [
    "if True:\n",
    "    DF = dd.read_csv(os.path.join(cn.EXPERIMENT_DIR, \"*.csv\"))\n",
    "    for column in DF.columns:\n",
    "        if \"Unnamed\" in column:\n",
    "            del DF[column]\n",
    "    # Eliminate status != success\n",
    "    DF = DF[DF[cn.SD_STATUS] == \"Success!\"]"
   ]
  },
  {
   "cell_type": "code",
   "execution_count": null,
   "id": "0735d9b1-5464-42de-9160-6e175ed7faa6",
   "metadata": {},
   "outputs": [],
   "source": [
    "if False:\n",
    "    path = os.path.join(cn.EXPERIMENT_DIR, \"workunits.txt\")\n",
    "    with open(path, \"r\") as fd:\n",
    "        workunit_strs = fd.readlines()\n",
    "    workunit_strs = [w if w[-1] == \"l\" else w[:-1] for w in workunit_strs]\n",
    "    workunits = [smt.Workunit.getFromStr(w) for w in workunit_strs]"
   ]
  },
  {
   "cell_type": "markdown",
   "id": "64b09d9e-a0a0-47cd-8f5f-3c09feaa157a",
   "metadata": {},
   "source": [
    "# Missing Experiments"
   ]
  },
  {
   "cell_type": "code",
   "execution_count": null,
   "id": "4ddb35d2-50e0-450c-b7f5-87f0f633a871",
   "metadata": {},
   "outputs": [],
   "source": [
    "set([\"--\".join(w.calcMultivaluedFactors()) for w in workunits])"
   ]
  },
  {
   "cell_type": "code",
   "execution_count": null,
   "id": "94f796fb-4bbd-4000-8c72-c3589928eecb",
   "metadata": {},
   "outputs": [],
   "source": [
    "# Find what varies across workunits"
   ]
  },
  {
   "cell_type": "code",
   "execution_count": null,
   "id": "b9cedf7f-c6d4-4b7f-8375-f6d56ac4d1e7",
   "metadata": {},
   "outputs": [],
   "source": [
    "# Combine workunits\n",
    "agg_workunits = smt.ExtendedDict({k: [] for k in cn.SD_CONDITIONS})\n",
    "for workunit in workunits[1:]:\n",
    "    dct = workunit.removeExpansions()\n",
    "    for key in dct.keys():\n",
    "        # Handle bug where get [[\"differential_evolution\"]]\n",
    "        if isinstance(dct[key], str):\n",
    "            values = set(agg_workunits[key]).union(dct[key])\n",
    "        elif isinstance(dct[key], list):\n",
    "            values = set(agg_workunits[key]).union(dct[key][0])\n",
    "        agg_workunits[key] = list(values)\n",
    "    print(agg_workunits)\n",
    "if False:\n",
    "    # Remove those known to vary\n",
    "    for factor in [cn.SD_BIOMODEL_NUM, cn.SD_TS_INSTANCE]:\n",
    "        del agg_workunits[factor]\n",
    "    str(agg_workunits)"
   ]
  },
  {
   "cell_type": "code",
   "execution_count": 5,
   "id": "5f22e60c-6525-4623-b69d-37e5a36f1cc3",
   "metadata": {},
   "outputs": [
    {
     "data": {
      "text/html": [
       "<div>\n",
       "<style scoped>\n",
       "    .dataframe tbody tr th:only-of-type {\n",
       "        vertical-align: middle;\n",
       "    }\n",
       "\n",
       "    .dataframe tbody tr th {\n",
       "        vertical-align: top;\n",
       "    }\n",
       "\n",
       "    .dataframe thead th {\n",
       "        text-align: right;\n",
       "    }\n",
       "</style>\n",
       "<table border=\"1\" class=\"dataframe\">\n",
       "  <thead>\n",
       "    <tr style=\"text-align: right;\">\n",
       "      <th></th>\n",
       "      <th>0</th>\n",
       "    </tr>\n",
       "  </thead>\n",
       "  <tbody>\n",
       "    <tr>\n",
       "      <th>0</th>\n",
       "      <td>4659</td>\n",
       "    </tr>\n",
       "  </tbody>\n",
       "</table>\n",
       "</div>"
      ],
      "text/plain": [
       "      0\n",
       "0  4659"
      ]
     },
     "execution_count": 5,
     "metadata": {},
     "output_type": "execute_result"
    }
   ],
   "source": [
    "count_df = pd.DataFrame(DF.groupby([cn.SD_NOISE_MAG, cn.SD_METHOD, cn.SD_MAX_FEV]).count()[\"biomodel_num\"])\n",
    "count_df = count_df.rename(columns={\"biomodel_num\": \"num_experiments\"})\n",
    "pd.DataFrame(count_df)"
   ]
  },
  {
   "cell_type": "code",
   "execution_count": null,
   "id": "af97ac58-2bfc-42ca-94e0-b3d5bcd24d35",
   "metadata": {},
   "outputs": [],
   "source": [
    "dff = DF[[cn.SD_NOISE_MAG, cn.SD_RANGE_INITIAL_FRAC, cn.SD_METHOD]]\n",
    "len(dff)"
   ]
  },
  {
   "cell_type": "code",
   "execution_count": 8,
   "id": "717f3994-86fe-4bf6-b528-159bbc4da174",
   "metadata": {},
   "outputs": [
    {
     "data": {
      "text/plain": [
       "Index(['num_species', 'num_reaction', 'num_parameter', 'biomodel_num',\n",
       "       'columns_deleted', 'max_fev', 'method', 'noise_mag', 'latincube_idx',\n",
       "       'range_min_frac', 'range_max_frac', 'ts_instance', 'median_err',\n",
       "       'max_err', 'min_err', 'rssq', 'avg_time', 'cnt', 'tot_time', 'status'],\n",
       "      dtype='object')"
      ]
     },
     "execution_count": 8,
     "metadata": {},
     "output_type": "execute_result"
    }
   ],
   "source": [
    "DF.columns"
   ]
  },
  {
   "cell_type": "code",
   "execution_count": 14,
   "id": "224a6ba5-0c99-4141-a69d-0008c22e7dd6",
   "metadata": {},
   "outputs": [
    {
     "data": {
      "text/html": [
       "<div>\n",
       "<style scoped>\n",
       "    .dataframe tbody tr th:only-of-type {\n",
       "        vertical-align: middle;\n",
       "    }\n",
       "\n",
       "    .dataframe tbody tr th {\n",
       "        vertical-align: top;\n",
       "    }\n",
       "\n",
       "    .dataframe thead th {\n",
       "        text-align: right;\n",
       "    }\n",
       "</style>\n",
       "<table border=\"1\" class=\"dataframe\">\n",
       "  <thead>\n",
       "    <tr style=\"text-align: right;\">\n",
       "      <th></th>\n",
       "      <th>biomodel_num</th>\n",
       "      <th>num_species</th>\n",
       "      <th>num_reaction</th>\n",
       "      <th>num_parameter</th>\n",
       "      <th>columns_deleted</th>\n",
       "      <th>max_fev</th>\n",
       "      <th>method</th>\n",
       "      <th>noise_mag</th>\n",
       "      <th>num_latincube</th>\n",
       "      <th>range_min_frac</th>\n",
       "      <th>range_max_frac</th>\n",
       "      <th>ts_instance</th>\n",
       "      <th>median_err</th>\n",
       "      <th>max_err</th>\n",
       "      <th>min_err</th>\n",
       "      <th>avg_time</th>\n",
       "      <th>cnt</th>\n",
       "      <th>tot_time</th>\n",
       "      <th>status</th>\n",
       "    </tr>\n",
       "  </thead>\n",
       "  <tbody>\n",
       "    <tr>\n",
       "      <th>1485</th>\n",
       "      <td>469</td>\n",
       "      <td>402.0</td>\n",
       "      <td>399.0</td>\n",
       "      <td>420.0</td>\n",
       "      <td>0</td>\n",
       "      <td>10000</td>\n",
       "      <td>differential_evolution</td>\n",
       "      <td>0.1</td>\n",
       "      <td>1</td>\n",
       "      <td>0.5</td>\n",
       "      <td>2.0</td>\n",
       "      <td>4</td>\n",
       "      <td>0.336495</td>\n",
       "      <td>0.999984</td>\n",
       "      <td>-0.002237</td>\n",
       "      <td>0.128608</td>\n",
       "      <td>10001.0</td>\n",
       "      <td>1286.205939</td>\n",
       "      <td>Success!</td>\n",
       "    </tr>\n",
       "    <tr>\n",
       "      <th>1486</th>\n",
       "      <td>469</td>\n",
       "      <td>402.0</td>\n",
       "      <td>399.0</td>\n",
       "      <td>420.0</td>\n",
       "      <td>0</td>\n",
       "      <td>10000</td>\n",
       "      <td>differential_evolution</td>\n",
       "      <td>0.1</td>\n",
       "      <td>1</td>\n",
       "      <td>0.5</td>\n",
       "      <td>2.0</td>\n",
       "      <td>1</td>\n",
       "      <td>0.420154</td>\n",
       "      <td>-0.999953</td>\n",
       "      <td>0.001781</td>\n",
       "      <td>0.129620</td>\n",
       "      <td>10001.0</td>\n",
       "      <td>1296.332595</td>\n",
       "      <td>Success!</td>\n",
       "    </tr>\n",
       "    <tr>\n",
       "      <th>1487</th>\n",
       "      <td>469</td>\n",
       "      <td>402.0</td>\n",
       "      <td>399.0</td>\n",
       "      <td>420.0</td>\n",
       "      <td>0</td>\n",
       "      <td>10000</td>\n",
       "      <td>differential_evolution</td>\n",
       "      <td>0.1</td>\n",
       "      <td>1</td>\n",
       "      <td>0.5</td>\n",
       "      <td>2.0</td>\n",
       "      <td>5</td>\n",
       "      <td>0.348590</td>\n",
       "      <td>0.999998</td>\n",
       "      <td>-0.004501</td>\n",
       "      <td>0.139609</td>\n",
       "      <td>10001.0</td>\n",
       "      <td>1396.228868</td>\n",
       "      <td>Success!</td>\n",
       "    </tr>\n",
       "    <tr>\n",
       "      <th>1488</th>\n",
       "      <td>469</td>\n",
       "      <td>402.0</td>\n",
       "      <td>399.0</td>\n",
       "      <td>420.0</td>\n",
       "      <td>0</td>\n",
       "      <td>10000</td>\n",
       "      <td>differential_evolution</td>\n",
       "      <td>0.1</td>\n",
       "      <td>1</td>\n",
       "      <td>0.5</td>\n",
       "      <td>2.0</td>\n",
       "      <td>2</td>\n",
       "      <td>0.340135</td>\n",
       "      <td>0.999930</td>\n",
       "      <td>0.006803</td>\n",
       "      <td>0.138900</td>\n",
       "      <td>10001.0</td>\n",
       "      <td>1389.137660</td>\n",
       "      <td>Success!</td>\n",
       "    </tr>\n",
       "    <tr>\n",
       "      <th>1489</th>\n",
       "      <td>469</td>\n",
       "      <td>402.0</td>\n",
       "      <td>399.0</td>\n",
       "      <td>420.0</td>\n",
       "      <td>0</td>\n",
       "      <td>10000</td>\n",
       "      <td>differential_evolution</td>\n",
       "      <td>0.1</td>\n",
       "      <td>1</td>\n",
       "      <td>0.5</td>\n",
       "      <td>2.0</td>\n",
       "      <td>3</td>\n",
       "      <td>0.293021</td>\n",
       "      <td>0.999994</td>\n",
       "      <td>0.004219</td>\n",
       "      <td>0.127773</td>\n",
       "      <td>10001.0</td>\n",
       "      <td>1277.859587</td>\n",
       "      <td>Success!</td>\n",
       "    </tr>\n",
       "    <tr>\n",
       "      <th>...</th>\n",
       "      <td>...</td>\n",
       "      <td>...</td>\n",
       "      <td>...</td>\n",
       "      <td>...</td>\n",
       "      <td>...</td>\n",
       "      <td>...</td>\n",
       "      <td>...</td>\n",
       "      <td>...</td>\n",
       "      <td>...</td>\n",
       "      <td>...</td>\n",
       "      <td>...</td>\n",
       "      <td>...</td>\n",
       "      <td>...</td>\n",
       "      <td>...</td>\n",
       "      <td>...</td>\n",
       "      <td>...</td>\n",
       "      <td>...</td>\n",
       "      <td>...</td>\n",
       "      <td>...</td>\n",
       "    </tr>\n",
       "    <tr>\n",
       "      <th>1485</th>\n",
       "      <td>469</td>\n",
       "      <td>402.0</td>\n",
       "      <td>399.0</td>\n",
       "      <td>420.0</td>\n",
       "      <td>0</td>\n",
       "      <td>1000</td>\n",
       "      <td>leastsq</td>\n",
       "      <td>0.2</td>\n",
       "      <td>8</td>\n",
       "      <td>0.5</td>\n",
       "      <td>2.0</td>\n",
       "      <td>5</td>\n",
       "      <td>0.460311</td>\n",
       "      <td>0.999999</td>\n",
       "      <td>-0.001769</td>\n",
       "      <td>0.549445</td>\n",
       "      <td>8024.0</td>\n",
       "      <td>551.093383</td>\n",
       "      <td>Success!</td>\n",
       "    </tr>\n",
       "    <tr>\n",
       "      <th>1486</th>\n",
       "      <td>469</td>\n",
       "      <td>402.0</td>\n",
       "      <td>399.0</td>\n",
       "      <td>420.0</td>\n",
       "      <td>0</td>\n",
       "      <td>1000</td>\n",
       "      <td>leastsq</td>\n",
       "      <td>0.2</td>\n",
       "      <td>8</td>\n",
       "      <td>0.5</td>\n",
       "      <td>2.0</td>\n",
       "      <td>2</td>\n",
       "      <td>0.346001</td>\n",
       "      <td>-0.999994</td>\n",
       "      <td>-0.000133</td>\n",
       "      <td>0.671589</td>\n",
       "      <td>8024.0</td>\n",
       "      <td>673.603331</td>\n",
       "      <td>Success!</td>\n",
       "    </tr>\n",
       "    <tr>\n",
       "      <th>1487</th>\n",
       "      <td>469</td>\n",
       "      <td>402.0</td>\n",
       "      <td>399.0</td>\n",
       "      <td>420.0</td>\n",
       "      <td>0</td>\n",
       "      <td>1000</td>\n",
       "      <td>leastsq</td>\n",
       "      <td>0.2</td>\n",
       "      <td>8</td>\n",
       "      <td>0.5</td>\n",
       "      <td>2.0</td>\n",
       "      <td>4</td>\n",
       "      <td>0.270816</td>\n",
       "      <td>-0.999846</td>\n",
       "      <td>-0.000295</td>\n",
       "      <td>0.566012</td>\n",
       "      <td>8024.0</td>\n",
       "      <td>567.709570</td>\n",
       "      <td>Success!</td>\n",
       "    </tr>\n",
       "    <tr>\n",
       "      <th>1488</th>\n",
       "      <td>469</td>\n",
       "      <td>402.0</td>\n",
       "      <td>399.0</td>\n",
       "      <td>420.0</td>\n",
       "      <td>0</td>\n",
       "      <td>1000</td>\n",
       "      <td>leastsq</td>\n",
       "      <td>0.2</td>\n",
       "      <td>8</td>\n",
       "      <td>0.5</td>\n",
       "      <td>2.0</td>\n",
       "      <td>1</td>\n",
       "      <td>0.320134</td>\n",
       "      <td>-0.999999</td>\n",
       "      <td>0.001797</td>\n",
       "      <td>0.745485</td>\n",
       "      <td>8024.0</td>\n",
       "      <td>747.721382</td>\n",
       "      <td>Success!</td>\n",
       "    </tr>\n",
       "    <tr>\n",
       "      <th>1489</th>\n",
       "      <td>469</td>\n",
       "      <td>402.0</td>\n",
       "      <td>399.0</td>\n",
       "      <td>420.0</td>\n",
       "      <td>0</td>\n",
       "      <td>1000</td>\n",
       "      <td>leastsq</td>\n",
       "      <td>0.2</td>\n",
       "      <td>8</td>\n",
       "      <td>0.5</td>\n",
       "      <td>2.0</td>\n",
       "      <td>3</td>\n",
       "      <td>0.351382</td>\n",
       "      <td>0.999987</td>\n",
       "      <td>-0.000323</td>\n",
       "      <td>0.570561</td>\n",
       "      <td>8024.0</td>\n",
       "      <td>572.272594</td>\n",
       "      <td>Success!</td>\n",
       "    </tr>\n",
       "  </tbody>\n",
       "</table>\n",
       "<p>112 rows × 19 columns</p>\n",
       "</div>"
      ],
      "text/plain": [
       "      biomodel_num  num_species  num_reaction  num_parameter  columns_deleted  \\\n",
       "1485           469        402.0         399.0          420.0                0   \n",
       "1486           469        402.0         399.0          420.0                0   \n",
       "1487           469        402.0         399.0          420.0                0   \n",
       "1488           469        402.0         399.0          420.0                0   \n",
       "1489           469        402.0         399.0          420.0                0   \n",
       "...            ...          ...           ...            ...              ...   \n",
       "1485           469        402.0         399.0          420.0                0   \n",
       "1486           469        402.0         399.0          420.0                0   \n",
       "1487           469        402.0         399.0          420.0                0   \n",
       "1488           469        402.0         399.0          420.0                0   \n",
       "1489           469        402.0         399.0          420.0                0   \n",
       "\n",
       "      max_fev                  method  noise_mag  num_latincube  \\\n",
       "1485    10000  differential_evolution        0.1              1   \n",
       "1486    10000  differential_evolution        0.1              1   \n",
       "1487    10000  differential_evolution        0.1              1   \n",
       "1488    10000  differential_evolution        0.1              1   \n",
       "1489    10000  differential_evolution        0.1              1   \n",
       "...       ...                     ...        ...            ...   \n",
       "1485     1000                 leastsq        0.2              8   \n",
       "1486     1000                 leastsq        0.2              8   \n",
       "1487     1000                 leastsq        0.2              8   \n",
       "1488     1000                 leastsq        0.2              8   \n",
       "1489     1000                 leastsq        0.2              8   \n",
       "\n",
       "      range_min_frac  range_max_frac  ts_instance  median_err   max_err  \\\n",
       "1485             0.5             2.0            4    0.336495  0.999984   \n",
       "1486             0.5             2.0            1    0.420154 -0.999953   \n",
       "1487             0.5             2.0            5    0.348590  0.999998   \n",
       "1488             0.5             2.0            2    0.340135  0.999930   \n",
       "1489             0.5             2.0            3    0.293021  0.999994   \n",
       "...              ...             ...          ...         ...       ...   \n",
       "1485             0.5             2.0            5    0.460311  0.999999   \n",
       "1486             0.5             2.0            2    0.346001 -0.999994   \n",
       "1487             0.5             2.0            4    0.270816 -0.999846   \n",
       "1488             0.5             2.0            1    0.320134 -0.999999   \n",
       "1489             0.5             2.0            3    0.351382  0.999987   \n",
       "\n",
       "       min_err  avg_time      cnt     tot_time    status  \n",
       "1485 -0.002237  0.128608  10001.0  1286.205939  Success!  \n",
       "1486  0.001781  0.129620  10001.0  1296.332595  Success!  \n",
       "1487 -0.004501  0.139609  10001.0  1396.228868  Success!  \n",
       "1488  0.006803  0.138900  10001.0  1389.137660  Success!  \n",
       "1489  0.004219  0.127773  10001.0  1277.859587  Success!  \n",
       "...        ...       ...      ...          ...       ...  \n",
       "1485 -0.001769  0.549445   8024.0   551.093383  Success!  \n",
       "1486 -0.000133  0.671589   8024.0   673.603331  Success!  \n",
       "1487 -0.000295  0.566012   8024.0   567.709570  Success!  \n",
       "1488  0.001797  0.745485   8024.0   747.721382  Success!  \n",
       "1489 -0.000323  0.570561   8024.0   572.272594  Success!  \n",
       "\n",
       "[112 rows x 19 columns]"
      ]
     },
     "execution_count": 14,
     "metadata": {},
     "output_type": "execute_result"
    }
   ],
   "source": [
    "DF[DF[cn.SD_NUM_PARAMETER] > 400]"
   ]
  },
  {
   "cell_type": "markdown",
   "id": "847c08df-4577-4bb9-b968-06b0455cc241",
   "metadata": {},
   "source": [
    "# Analyze variability by replication"
   ]
  },
  {
   "cell_type": "code",
   "execution_count": 46,
   "id": "92940a12-8aae-47ea-aee9-5fc3dc002d14",
   "metadata": {},
   "outputs": [],
   "source": [
    "dfg = DF.groupby(cn.SD_BIOMODEL_NUM)\n",
    "mean_df = pd.DataFrame(dfg.mean().compute())\n",
    "std_df = pd.DataFrame(dfg.std().compute())\n",
    "cv_df = pd.DataFrame(cnt_std/cnt_mean)"
   ]
  },
  {
   "cell_type": "code",
   "execution_count": 37,
   "id": "50646c50-e326-4ca3-8418-e60df5ef65e4",
   "metadata": {},
   "outputs": [
    {
     "data": {
      "image/png": "[encoded data removed]",
      "text/plain": [
       "<Figure size 432x288 with 1 Axes>"
      ]
     },
     "metadata": {
      "needs_background": "light"
     },
     "output_type": "display_data"
    }
   ],
   "source": [
    "plt.hist(cv_df[cn.SD_CNT])\n",
    "_ = plt.title(\"CV of Count of Function Evaluations\")"
   ]
  },
  {
   "cell_type": "code",
   "execution_count": 38,
   "id": "93a0e9a5-355a-4b80-8917-ae984703854c",
   "metadata": {},
   "outputs": [
    {
     "data": {
      "image/png": "[encoded data removed]",
      "text/plain": [
       "<Figure size 432x288 with 1 Axes>"
      ]
     },
     "metadata": {
      "needs_background": "light"
     },
     "output_type": "display_data"
    }
   ],
   "source": [
    "_ = plt.hist(mean_df[cn.SD_CNT], bins=100, cumulative=True, density=True)\n",
    "_ = plt.title(\"Mean Number of Function Evaluations\")"
   ]
  },
  {
   "cell_type": "code",
   "execution_count": 33,
   "id": "f8b51636-b7d2-40ba-bae4-2db15273f2e0",
   "metadata": {},
   "outputs": [
    {
     "data": {
      "image/png": "[encoded data removed]",
      "text/plain": [
       "<Figure size 432x288 with 1 Axes>"
      ]
     },
     "metadata": {
      "needs_background": "light"
     },
     "output_type": "display_data"
    }
   ],
   "source": [
    "_ = plt.hist(mean_df[cn.SD_MEDIAN_ERR], bins=100, cumulative=True, density=True)\n",
    "_ = plt.title(\"Median Log2 Actual/True\")"
   ]
  },
  {
   "cell_type": "code",
   "execution_count": 48,
   "id": "fb0dad3b-b00d-4685-a51a-47d812096e8f",
   "metadata": {},
   "outputs": [
    {
     "data": {
      "text/plain": [
       "Text(0, 0.5, 'function evaluations')"
      ]
     },
     "execution_count": 48,
     "metadata": {},
     "output_type": "execute_result"
    },
    {
     "data": {
      "image/png": "[encoded data removed]",
      "text/plain": [
       "<Figure size 432x288 with 1 Axes>"
      ]
     },
     "metadata": {
      "needs_background": "light"
     },
     "output_type": "display_data"
    }
   ],
   "source": [
    "plt.scatter(mean_df[cn.SD_MEDIAN_ERR], mean_df[cn.SD_CNT])\n",
    "plt.xlabel(\"median err\")\n",
    "plt.ylabel(\"function evaluations\")"
   ]
  }
 ],
 "metadata": {
  "kernelspec": {
   "display_name": "Python 3",
   "language": "python",
   "name": "python3"
  },
  "language_info": {
   "codemirror_mode": {
    "name": "ipython",
    "version": 3
   },
   "file_extension": ".py",
   "mimetype": "text/x-python",
   "name": "python",
   "nbconvert_exporter": "python",
   "pygments_lexer": "ipython3",
   "version": "3.6.9"
  }
 },
 "nbformat": 4,
 "nbformat_minor": 5
}
