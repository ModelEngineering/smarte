{
 "cells": [
  {
   "cell_type": "markdown",
   "id": "7e5d1edb-0cd9-4d86-b9d2-6ad69e57a0e6",
   "metadata": {},
   "source": [
    "# ANALYZE EXPERIMENTS"
   ]
  },
  {
   "cell_type": "code",
   "execution_count": 1,
   "id": "a2bd0edd-34c8-4e13-a81d-0a6f8c5f8652",
   "metadata": {},
   "outputs": [],
   "source": [
    "import smarte.constants as cn\n",
    "import smarte as smt\n",
    "\n",
    "import numpy as np\n",
    "import matplotlib.pyplot as plt\n",
    "import os\n",
    "import pandas as pd\n",
    "from io import StringIO\n",
    "import zipfile"
   ]
  },
  {
   "cell_type": "markdown",
   "id": "4749ff07-d05f-4b43-a9df-21aba67bb99e",
   "metadata": {},
   "source": [
    "# Helpers"
   ]
  },
  {
   "cell_type": "markdown",
   "id": "e9492df9-03b1-4170-a3ea-9e760afb3348",
   "metadata": {},
   "source": [
    "# Data Overview"
   ]
  },
  {
   "cell_type": "code",
   "execution_count": 2,
   "id": "ba685c52-5330-47d5-b3c5-96627c081a60",
   "metadata": {},
   "outputs": [
    {
     "data": {
      "text/html": [
       "<div>\n",
       "<style scoped>\n",
       "    .dataframe tbody tr th:only-of-type {\n",
       "        vertical-align: middle;\n",
       "    }\n",
       "\n",
       "    .dataframe tbody tr th {\n",
       "        vertical-align: top;\n",
       "    }\n",
       "\n",
       "    .dataframe thead th {\n",
       "        text-align: right;\n",
       "    }\n",
       "</style>\n",
       "<table border=\"1\" class=\"dataframe\">\n",
       "  <thead>\n",
       "    <tr style=\"text-align: right;\">\n",
       "      <th></th>\n",
       "      <th>biomodel_num</th>\n",
       "      <th>columns_deleted</th>\n",
       "      <th>max_fev</th>\n",
       "      <th>method</th>\n",
       "      <th>noise_mag</th>\n",
       "      <th>latincube_idx</th>\n",
       "      <th>range_min_frac</th>\n",
       "      <th>range_max_frac</th>\n",
       "      <th>ts_instance</th>\n",
       "      <th>index</th>\n",
       "      <th>num_species</th>\n",
       "      <th>num_reaction</th>\n",
       "      <th>num_parameter</th>\n",
       "      <th>median_err</th>\n",
       "      <th>max_err</th>\n",
       "      <th>min_err</th>\n",
       "      <th>rssq</th>\n",
       "      <th>avg_time</th>\n",
       "      <th>cnt</th>\n",
       "      <th>tot_time</th>\n",
       "    </tr>\n",
       "  </thead>\n",
       "  <tbody>\n",
       "    <tr>\n",
       "      <th>0</th>\n",
       "      <td>1</td>\n",
       "      <td>0</td>\n",
       "      <td>1000</td>\n",
       "      <td>differential_evolution</td>\n",
       "      <td>0.1</td>\n",
       "      <td>1</td>\n",
       "      <td>0.5</td>\n",
       "      <td>2.0</td>\n",
       "      <td>1</td>\n",
       "      <td>0.0</td>\n",
       "      <td>12.0</td>\n",
       "      <td>17.0</td>\n",
       "      <td>35.0</td>\n",
       "      <td>0.183709</td>\n",
       "      <td>0.999112</td>\n",
       "      <td>-0.020618</td>\n",
       "      <td>2.141837e-07</td>\n",
       "      <td>0.000195</td>\n",
       "      <td>1001.0</td>\n",
       "      <td>0.195356</td>\n",
       "    </tr>\n",
       "    <tr>\n",
       "      <th>1</th>\n",
       "      <td>1</td>\n",
       "      <td>0</td>\n",
       "      <td>1000</td>\n",
       "      <td>differential_evolution</td>\n",
       "      <td>0.1</td>\n",
       "      <td>1</td>\n",
       "      <td>0.5</td>\n",
       "      <td>2.0</td>\n",
       "      <td>2</td>\n",
       "      <td>0.0</td>\n",
       "      <td>12.0</td>\n",
       "      <td>17.0</td>\n",
       "      <td>35.0</td>\n",
       "      <td>0.418409</td>\n",
       "      <td>-0.997113</td>\n",
       "      <td>-0.022271</td>\n",
       "      <td>2.168168e-07</td>\n",
       "      <td>0.000198</td>\n",
       "      <td>1001.0</td>\n",
       "      <td>0.197768</td>\n",
       "    </tr>\n",
       "    <tr>\n",
       "      <th>2</th>\n",
       "      <td>1</td>\n",
       "      <td>0</td>\n",
       "      <td>1000</td>\n",
       "      <td>differential_evolution</td>\n",
       "      <td>0.1</td>\n",
       "      <td>1</td>\n",
       "      <td>0.5</td>\n",
       "      <td>2.0</td>\n",
       "      <td>3</td>\n",
       "      <td>0.0</td>\n",
       "      <td>12.0</td>\n",
       "      <td>17.0</td>\n",
       "      <td>35.0</td>\n",
       "      <td>0.224564</td>\n",
       "      <td>1.000000</td>\n",
       "      <td>0.093372</td>\n",
       "      <td>2.156352e-07</td>\n",
       "      <td>0.000177</td>\n",
       "      <td>1001.0</td>\n",
       "      <td>0.177638</td>\n",
       "    </tr>\n",
       "    <tr>\n",
       "      <th>3</th>\n",
       "      <td>1</td>\n",
       "      <td>0</td>\n",
       "      <td>1000</td>\n",
       "      <td>differential_evolution</td>\n",
       "      <td>0.1</td>\n",
       "      <td>1</td>\n",
       "      <td>0.5</td>\n",
       "      <td>2.0</td>\n",
       "      <td>4</td>\n",
       "      <td>0.0</td>\n",
       "      <td>12.0</td>\n",
       "      <td>17.0</td>\n",
       "      <td>35.0</td>\n",
       "      <td>0.237401</td>\n",
       "      <td>0.999966</td>\n",
       "      <td>0.039410</td>\n",
       "      <td>2.138009e-07</td>\n",
       "      <td>0.000178</td>\n",
       "      <td>1001.0</td>\n",
       "      <td>0.178542</td>\n",
       "    </tr>\n",
       "    <tr>\n",
       "      <th>4</th>\n",
       "      <td>1</td>\n",
       "      <td>0</td>\n",
       "      <td>1000</td>\n",
       "      <td>differential_evolution</td>\n",
       "      <td>0.1</td>\n",
       "      <td>1</td>\n",
       "      <td>0.5</td>\n",
       "      <td>2.0</td>\n",
       "      <td>5</td>\n",
       "      <td>0.0</td>\n",
       "      <td>12.0</td>\n",
       "      <td>17.0</td>\n",
       "      <td>35.0</td>\n",
       "      <td>0.237401</td>\n",
       "      <td>0.999966</td>\n",
       "      <td>0.039410</td>\n",
       "      <td>2.147728e-07</td>\n",
       "      <td>0.000196</td>\n",
       "      <td>1001.0</td>\n",
       "      <td>0.196658</td>\n",
       "    </tr>\n",
       "  </tbody>\n",
       "</table>\n",
       "</div>"
      ],
      "text/plain": [
       "   biomodel_num  columns_deleted  max_fev                  method  noise_mag  \\\n",
       "0             1                0     1000  differential_evolution        0.1   \n",
       "1             1                0     1000  differential_evolution        0.1   \n",
       "2             1                0     1000  differential_evolution        0.1   \n",
       "3             1                0     1000  differential_evolution        0.1   \n",
       "4             1                0     1000  differential_evolution        0.1   \n",
       "\n",
       "   latincube_idx  range_min_frac  range_max_frac  ts_instance  index  \\\n",
       "0              1             0.5             2.0            1    0.0   \n",
       "1              1             0.5             2.0            2    0.0   \n",
       "2              1             0.5             2.0            3    0.0   \n",
       "3              1             0.5             2.0            4    0.0   \n",
       "4              1             0.5             2.0            5    0.0   \n",
       "\n",
       "   num_species  num_reaction  num_parameter  median_err   max_err   min_err  \\\n",
       "0         12.0          17.0           35.0    0.183709  0.999112 -0.020618   \n",
       "1         12.0          17.0           35.0    0.418409 -0.997113 -0.022271   \n",
       "2         12.0          17.0           35.0    0.224564  1.000000  0.093372   \n",
       "3         12.0          17.0           35.0    0.237401  0.999966  0.039410   \n",
       "4         12.0          17.0           35.0    0.237401  0.999966  0.039410   \n",
       "\n",
       "           rssq  avg_time     cnt  tot_time  \n",
       "0  2.141837e-07  0.000195  1001.0  0.195356  \n",
       "1  2.168168e-07  0.000198  1001.0  0.197768  \n",
       "2  2.156352e-07  0.000177  1001.0  0.177638  \n",
       "3  2.138009e-07  0.000178  1001.0  0.178542  \n",
       "4  2.147728e-07  0.000196  1001.0  0.196658  "
      ]
     },
     "execution_count": 2,
     "metadata": {},
     "output_type": "execute_result"
    }
   ],
   "source": [
    "PROVIDER = smt.ExperimentProvider()\n",
    "DF = PROVIDER.df\n",
    "DF.head()"
   ]
  },
  {
   "cell_type": "code",
   "execution_count": 3,
   "id": "abf8c877-b3c9-486d-bf8a-e948555c9cca",
   "metadata": {},
   "outputs": [
    {
     "data": {
      "text/plain": [
       "239305"
      ]
     },
     "execution_count": 3,
     "metadata": {},
     "output_type": "execute_result"
    }
   ],
   "source": [
    "len(DF)"
   ]
  },
  {
   "cell_type": "code",
   "execution_count": 4,
   "id": "e6273094-6a9d-4ed8-b92b-220bcf32c80c",
   "metadata": {},
   "outputs": [
    {
     "data": {
      "image/png": "[encoded data removed]",
      "text/plain": [
       "<Figure size 720x720 with 9 Axes>"
      ]
     },
     "metadata": {
      "needs_background": "light"
     },
     "output_type": "display_data"
    }
   ],
   "source": [
    "PROVIDER.plotFactorCounts(exclude_factors=[])"
   ]
  },
  {
   "cell_type": "markdown",
   "id": "13c75a9a-074a-4011-b831-30cbdbc57d15",
   "metadata": {},
   "source": [
    "# H: There is no difference between the latin cubes"
   ]
  },
  {
   "cell_type": "markdown",
   "id": "0fae4d2e-2606-48f7-b6e5-9c4ef6e69067",
   "metadata": {},
   "source": [
    "Approach\n",
    "1. Calculate F-stat for latin cubes (variance between divided by pooled variance within)\n",
    "1. Plot CDF for models marking significance level"
   ]
  },
  {
   "cell_type": "markdown",
   "id": "04f51a76-a172-42fa-990b-4b759f58c2e3",
   "metadata": {},
   "source": [
    "# H: Accuracy increases with the number of function evaluations"
   ]
  },
  {
   "cell_type": "markdown",
   "id": "64b09d9e-a0a0-47cd-8f5f-3c09feaa157a",
   "metadata": {},
   "source": [
    "# Missing Experiments"
   ]
  },
  {
   "cell_type": "code",
   "execution_count": 5,
   "id": "4ddb35d2-50e0-450c-b7f5-87f0f633a871",
   "metadata": {},
   "outputs": [
    {
     "ename": "NameError",
     "evalue": "name 'workunits' is not defined",
     "output_type": "error",
     "traceback": [
      "\u001b[0;31m---------------------------------------------------------------------------\u001b[0m",
      "\u001b[0;31mNameError\u001b[0m                                 Traceback (most recent call last)",
      "\u001b[0;32m<ipython-input-5-241eae88527c>\u001b[0m in \u001b[0;36m<module>\u001b[0;34m\u001b[0m\n\u001b[0;32m----> 1\u001b[0;31m \u001b[0mset\u001b[0m\u001b[0;34m(\u001b[0m\u001b[0;34m[\u001b[0m\u001b[0;34m\"--\"\u001b[0m\u001b[0;34m.\u001b[0m\u001b[0mjoin\u001b[0m\u001b[0;34m(\u001b[0m\u001b[0mw\u001b[0m\u001b[0;34m.\u001b[0m\u001b[0mcalcMultivaluedFactors\u001b[0m\u001b[0;34m(\u001b[0m\u001b[0;34m)\u001b[0m\u001b[0;34m)\u001b[0m \u001b[0;32mfor\u001b[0m \u001b[0mw\u001b[0m \u001b[0;32min\u001b[0m \u001b[0mworkunits\u001b[0m\u001b[0;34m]\u001b[0m\u001b[0;34m)\u001b[0m\u001b[0;34m\u001b[0m\u001b[0;34m\u001b[0m\u001b[0m\n\u001b[0m",
      "\u001b[0;31mNameError\u001b[0m: name 'workunits' is not defined"
     ]
    }
   ],
   "source": [
    "set([\"--\".join(w.calcMultivaluedFactors()) for w in workunits])"
   ]
  },
  {
   "cell_type": "code",
   "execution_count": null,
   "id": "94f796fb-4bbd-4000-8c72-c3589928eecb",
   "metadata": {},
   "outputs": [],
   "source": [
    "# Find what varies across workunits"
   ]
  },
  {
   "cell_type": "code",
   "execution_count": null,
   "id": "b9cedf7f-c6d4-4b7f-8375-f6d56ac4d1e7",
   "metadata": {},
   "outputs": [],
   "source": [
    "# Combine workunits\n",
    "agg_workunits = smt.ExtendedDict({k: [] for k in cn.SD_CONDITIONS})\n",
    "for workunit in workunits[1:]:\n",
    "    dct = workunit.removeExpansions()\n",
    "    for key in dct.keys():\n",
    "        # Handle bug where get [[\"differential_evolution\"]]\n",
    "        if isinstance(dct[key], str):\n",
    "            values = set(agg_workunits[key]).union(dct[key])\n",
    "        elif isinstance(dct[key], list):\n",
    "            values = set(agg_workunits[key]).union(dct[key][0])\n",
    "        agg_workunits[key] = list(values)\n",
    "    print(agg_workunits)\n",
    "if False:\n",
    "    # Remove those known to vary\n",
    "    for factor in [cn.SD_BIOMODEL_NUM, cn.SD_TS_INSTANCE]:\n",
    "        del agg_workunits[factor]\n",
    "    str(agg_workunits)"
   ]
  },
  {
   "cell_type": "code",
   "execution_count": null,
   "id": "5f22e60c-6525-4623-b69d-37e5a36f1cc3",
   "metadata": {},
   "outputs": [],
   "source": [
    "count_df = pd.DataFrame(DF.groupby([cn.SD_NOISE_MAG, cn.SD_METHOD, cn.SD_MAX_FEV]).count()[\"biomodel_num\"])\n",
    "count_df = count_df.rename(columns={\"biomodel_num\": \"num_experiments\"})\n",
    "pd.DataFrame(count_df)"
   ]
  },
  {
   "cell_type": "code",
   "execution_count": null,
   "id": "af97ac58-2bfc-42ca-94e0-b3d5bcd24d35",
   "metadata": {},
   "outputs": [],
   "source": [
    "dff = DF[[cn.SD_NOISE_MAG, cn.SD_RANGE_INITIAL_FRAC, cn.SD_METHOD]]\n",
    "len(dff)"
   ]
  },
  {
   "cell_type": "code",
   "execution_count": null,
   "id": "717f3994-86fe-4bf6-b528-159bbc4da174",
   "metadata": {},
   "outputs": [],
   "source": [
    "DF.columns"
   ]
  },
  {
   "cell_type": "code",
   "execution_count": null,
   "id": "224a6ba5-0c99-4141-a69d-0008c22e7dd6",
   "metadata": {},
   "outputs": [],
   "source": [
    "DF[DF[cn.SD_NUM_PARAMETER] > 400]"
   ]
  },
  {
   "cell_type": "markdown",
   "id": "847c08df-4577-4bb9-b968-06b0455cc241",
   "metadata": {},
   "source": [
    "# Analyze variability by replication"
   ]
  },
  {
   "cell_type": "code",
   "execution_count": null,
   "id": "92940a12-8aae-47ea-aee9-5fc3dc002d14",
   "metadata": {},
   "outputs": [],
   "source": [
    "dfg = DF.groupby(cn.SD_BIOMODEL_NUM)\n",
    "mean_df = pd.DataFrame(dfg.mean().compute())\n",
    "std_df = pd.DataFrame(dfg.std().compute())\n",
    "cv_df = pd.DataFrame(cnt_std/cnt_mean)"
   ]
  },
  {
   "cell_type": "code",
   "execution_count": null,
   "id": "50646c50-e326-4ca3-8418-e60df5ef65e4",
   "metadata": {},
   "outputs": [],
   "source": [
    "plt.hist(cv_df[cn.SD_CNT])\n",
    "_ = plt.title(\"CV of Count of Function Evaluations\")"
   ]
  },
  {
   "cell_type": "code",
   "execution_count": null,
   "id": "93a0e9a5-355a-4b80-8917-ae984703854c",
   "metadata": {},
   "outputs": [],
   "source": [
    "_ = plt.hist(mean_df[cn.SD_CNT], bins=100, cumulative=True, density=True)\n",
    "_ = plt.title(\"Mean Number of Function Evaluations\")"
   ]
  },
  {
   "cell_type": "code",
   "execution_count": null,
   "id": "f8b51636-b7d2-40ba-bae4-2db15273f2e0",
   "metadata": {},
   "outputs": [],
   "source": [
    "_ = plt.hist(mean_df[cn.SD_MEDIAN_ERR], bins=100, cumulative=True, density=True)\n",
    "_ = plt.title(\"Median Log2 Actual/True\")"
   ]
  },
  {
   "cell_type": "code",
   "execution_count": null,
   "id": "fb0dad3b-b00d-4685-a51a-47d812096e8f",
   "metadata": {},
   "outputs": [],
   "source": [
    "plt.scatter(mean_df[cn.SD_MEDIAN_ERR], mean_df[cn.SD_CNT])\n",
    "plt.xlabel(\"median err\")\n",
    "plt.ylabel(\"function evaluations\")"
   ]
  }
 ],
 "metadata": {
  "kernelspec": {
   "display_name": "Python 3",
   "language": "python",
   "name": "python3"
  },
  "language_info": {
   "codemirror_mode": {
    "name": "ipython",
    "version": 3
   },
   "file_extension": ".py",
   "mimetype": "text/x-python",
   "name": "python",
   "nbconvert_exporter": "python",
   "pygments_lexer": "ipython3",
   "version": "3.6.9"
  }
 },
 "nbformat": 4,
 "nbformat_minor": 5
}
